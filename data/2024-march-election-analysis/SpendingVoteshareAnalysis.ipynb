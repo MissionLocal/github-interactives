{
 "cells": [
  {
   "cell_type": "markdown",
   "metadata": {},
   "source": [
    "### Looking at the relationship between campaign contributions and election results"
   ]
  },
  {
   "cell_type": "markdown",
   "metadata": {},
   "source": [
    "More information on the funds raised [here](https://missionlocal.org/2024/03/explore-more-than-11m-is-going-towards-san-franciscos-march-5-election/?_thumbnail_id=585783)"
   ]
  },
  {
   "cell_type": "code",
   "execution_count": 21,
   "metadata": {},
   "outputs": [],
   "source": [
    "import pandas as pd\n",
    "import statsmodels.formula.api as smf\n",
    "import matplotlib.pyplot as plt\n"
   ]
  },
  {
   "cell_type": "markdown",
   "metadata": {},
   "source": [
    "This is a dataframe that contains a row for each candidate (51 total) in the DCCC race, how many votes they received and also how much money they raised."
   ]
  },
  {
   "cell_type": "code",
   "execution_count": 22,
   "metadata": {},
   "outputs": [],
   "source": [
    "df = pd.read_csv('dccc_data.csv')"
   ]
  },
  {
   "cell_type": "code",
   "execution_count": 23,
   "metadata": {},
   "outputs": [
    {
     "data": {
      "text/html": [
       "<div>\n",
       "<style scoped>\n",
       "    .dataframe tbody tr th:only-of-type {\n",
       "        vertical-align: middle;\n",
       "    }\n",
       "\n",
       "    .dataframe tbody tr th {\n",
       "        vertical-align: top;\n",
       "    }\n",
       "\n",
       "    .dataframe thead th {\n",
       "        text-align: right;\n",
       "    }\n",
       "</style>\n",
       "<table border=\"1\" class=\"dataframe\">\n",
       "  <thead>\n",
       "    <tr style=\"text-align: right;\">\n",
       "      <th></th>\n",
       "      <th>contest</th>\n",
       "      <th>amount_raised</th>\n",
       "      <th>slate</th>\n",
       "      <th>votes</th>\n",
       "      <th>race</th>\n",
       "    </tr>\n",
       "  </thead>\n",
       "  <tbody>\n",
       "    <tr>\n",
       "      <th>0</th>\n",
       "      <td>Adolfo Velasquez</td>\n",
       "      <td>17453.0</td>\n",
       "      <td>progressive</td>\n",
       "      <td>9735</td>\n",
       "      <td>DCCC</td>\n",
       "    </tr>\n",
       "    <tr>\n",
       "      <th>1</th>\n",
       "      <td>Anita Martinez</td>\n",
       "      <td>16572.0</td>\n",
       "      <td>progressive</td>\n",
       "      <td>11181</td>\n",
       "      <td>DCCC</td>\n",
       "    </tr>\n",
       "    <tr>\n",
       "      <th>2</th>\n",
       "      <td>Bilal Mahmood</td>\n",
       "      <td>274675.0</td>\n",
       "      <td>moderate</td>\n",
       "      <td>15631</td>\n",
       "      <td>DCCC</td>\n",
       "    </tr>\n",
       "    <tr>\n",
       "      <th>3</th>\n",
       "      <td>Brian Quan</td>\n",
       "      <td>52817.0</td>\n",
       "      <td>moderate</td>\n",
       "      <td>9614</td>\n",
       "      <td>DCCC</td>\n",
       "    </tr>\n",
       "    <tr>\n",
       "      <th>4</th>\n",
       "      <td>Carrie Barnes</td>\n",
       "      <td>141043.0</td>\n",
       "      <td>moderate</td>\n",
       "      <td>13946</td>\n",
       "      <td>DCCC</td>\n",
       "    </tr>\n",
       "  </tbody>\n",
       "</table>\n",
       "</div>"
      ],
      "text/plain": [
       "            contest  amount_raised        slate  votes  race\n",
       "0  Adolfo Velasquez        17453.0  progressive   9735  DCCC\n",
       "1    Anita Martinez        16572.0  progressive  11181  DCCC\n",
       "2     Bilal Mahmood       274675.0     moderate  15631  DCCC\n",
       "3        Brian Quan        52817.0     moderate   9614  DCCC\n",
       "4     Carrie Barnes       141043.0     moderate  13946  DCCC"
      ]
     },
     "execution_count": 23,
     "metadata": {},
     "output_type": "execute_result"
    }
   ],
   "source": [
    "df.head(5)"
   ]
  },
  {
   "cell_type": "code",
   "execution_count": 24,
   "metadata": {},
   "outputs": [],
   "source": [
    "to_plot = df.melt(id_vars=['amount_raised','votes'])"
   ]
  },
  {
   "cell_type": "code",
   "execution_count": 26,
   "metadata": {},
   "outputs": [
    {
     "data": {
      "text/plain": [
       "<AxesSubplot: xlabel='amount_raised', ylabel='votes'>"
      ]
     },
     "execution_count": 26,
     "metadata": {},
     "output_type": "execute_result"
    }
   ],
   "source": [
    "to_plot.plot.scatter(x='amount_raised', y='votes')\n"
   ]
  },
  {
   "cell_type": "code",
   "execution_count": null,
   "metadata": {},
   "outputs": [
    {
     "data": {
      "image/png": "[encoded data removed]",
      "text/plain": [
       "<Figure size 640x480 with 1 Axes>"
      ]
     },
     "metadata": {},
     "output_type": "display_data"
    }
   ],
   "source": [
    "plt.show()\n"
   ]
  },
  {
   "cell_type": "markdown",
   "metadata": {},
   "source": [
    "The same visual here in D3 for the story: \n",
    "https://missionlocal.github.io/interactives/2024-DCCC-voteshare-spending/"
   ]
  },
  {
   "cell_type": "code",
   "execution_count": null,
   "metadata": {},
   "outputs": [
    {
     "data": {
      "text/html": [
       "<table class=\"simpletable\">\n",
       "<caption>OLS Regression Results</caption>\n",
       "<tr>\n",
       "  <th>Dep. Variable:</th>          <td>votes</td>      <th>  R-squared:         </th> <td>   0.253</td>\n",
       "</tr>\n",
       "<tr>\n",
       "  <th>Model:</th>                   <td>OLS</td>       <th>  Adj. R-squared:    </th> <td>   0.238</td>\n",
       "</tr>\n",
       "<tr>\n",
       "  <th>Method:</th>             <td>Least Squares</td>  <th>  F-statistic:       </th> <td>   16.63</td>\n",
       "</tr>\n",
       "<tr>\n",
       "  <th>Date:</th>             <td>Thu, 14 Mar 2024</td> <th>  Prob (F-statistic):</th> <td>0.000167</td>\n",
       "</tr>\n",
       "<tr>\n",
       "  <th>Time:</th>                 <td>11:09:26</td>     <th>  Log-Likelihood:    </th> <td> -484.81</td>\n",
       "</tr>\n",
       "<tr>\n",
       "  <th>No. Observations:</th>      <td>    51</td>      <th>  AIC:               </th> <td>   973.6</td>\n",
       "</tr>\n",
       "<tr>\n",
       "  <th>Df Residuals:</th>          <td>    49</td>      <th>  BIC:               </th> <td>   977.5</td>\n",
       "</tr>\n",
       "<tr>\n",
       "  <th>Df Model:</th>              <td>     1</td>      <th>                     </th>     <td> </td>   \n",
       "</tr>\n",
       "<tr>\n",
       "  <th>Covariance Type:</th>      <td>nonrobust</td>    <th>                     </th>     <td> </td>   \n",
       "</tr>\n",
       "</table>\n",
       "<table class=\"simpletable\">\n",
       "<tr>\n",
       "        <td></td>           <th>coef</th>     <th>std err</th>      <th>t</th>      <th>P>|t|</th>  <th>[0.025</th>    <th>0.975]</th>  \n",
       "</tr>\n",
       "<tr>\n",
       "  <th>Intercept</th>     <td> 9082.9363</td> <td>  647.281</td> <td>   14.032</td> <td> 0.000</td> <td> 7782.177</td> <td> 1.04e+04</td>\n",
       "</tr>\n",
       "<tr>\n",
       "  <th>amount_raised</th> <td>    0.0324</td> <td>    0.008</td> <td>    4.077</td> <td> 0.000</td> <td>    0.016</td> <td>    0.048</td>\n",
       "</tr>\n",
       "</table>\n",
       "<table class=\"simpletable\">\n",
       "<tr>\n",
       "  <th>Omnibus:</th>       <td> 1.075</td> <th>  Durbin-Watson:     </th> <td>   2.057</td>\n",
       "</tr>\n",
       "<tr>\n",
       "  <th>Prob(Omnibus):</th> <td> 0.584</td> <th>  Jarque-Bera (JB):  </th> <td>   0.996</td>\n",
       "</tr>\n",
       "<tr>\n",
       "  <th>Skew:</th>          <td>-0.325</td> <th>  Prob(JB):          </th> <td>   0.608</td>\n",
       "</tr>\n",
       "<tr>\n",
       "  <th>Kurtosis:</th>      <td> 2.784</td> <th>  Cond. No.          </th> <td>1.14e+05</td>\n",
       "</tr>\n",
       "</table><br/><br/>Notes:<br/>[1] Standard Errors assume that the covariance matrix of the errors is correctly specified.<br/>[2] The condition number is large, 1.14e+05. This might indicate that there are<br/>strong multicollinearity or other numerical problems."
      ],
      "text/plain": [
       "<class 'statsmodels.iolib.summary.Summary'>\n",
       "\"\"\"\n",
       "                            OLS Regression Results                            \n",
       "==============================================================================\n",
       "Dep. Variable:                  votes   R-squared:                       0.253\n",
       "Model:                            OLS   Adj. R-squared:                  0.238\n",
       "Method:                 Least Squares   F-statistic:                     16.63\n",
       "Date:                Thu, 14 Mar 2024   Prob (F-statistic):           0.000167\n",
       "Time:                        11:09:26   Log-Likelihood:                -484.81\n",
       "No. Observations:                  51   AIC:                             973.6\n",
       "Df Residuals:                      49   BIC:                             977.5\n",
       "Df Model:                           1                                         \n",
       "Covariance Type:            nonrobust                                         \n",
       "=================================================================================\n",
       "                    coef    std err          t      P>|t|      [0.025      0.975]\n",
       "---------------------------------------------------------------------------------\n",
       "Intercept      9082.9363    647.281     14.032      0.000    7782.177    1.04e+04\n",
       "amount_raised     0.0324      0.008      4.077      0.000       0.016       0.048\n",
       "==============================================================================\n",
       "Omnibus:                        1.075   Durbin-Watson:                   2.057\n",
       "Prob(Omnibus):                  0.584   Jarque-Bera (JB):                0.996\n",
       "Skew:                          -0.325   Prob(JB):                        0.608\n",
       "Kurtosis:                       2.784   Cond. No.                     1.14e+05\n",
       "==============================================================================\n",
       "\n",
       "Notes:\n",
       "[1] Standard Errors assume that the covariance matrix of the errors is correctly specified.\n",
       "[2] The condition number is large, 1.14e+05. This might indicate that there are\n",
       "strong multicollinearity or other numerical problems.\n",
       "\"\"\""
      ]
     },
     "execution_count": 17,
     "metadata": {},
     "output_type": "execute_result"
    }
   ],
   "source": [
    "model = smf.ols(\"votes ~ amount_raised\", data=df)\n",
    "results = model.fit()\n",
    "results.summary()"
   ]
  },
  {
   "cell_type": "markdown",
   "metadata": {},
   "source": [
    "### Interpretation: \n",
    "\n",
    "- There is a correlation between the amount of money raised and the number of votes a candidate received. \n",
    "- The correlation is statistically significant. \n",
    "- 25% of the change in votes can be explained by the change in money raised.\n",
    "\n",
    "- BUT based on this, I cannot determine whether or not there is a causal relationship (!)\n",
    "- I have spoken to a couple of experts who work at Berkeley in the political science department and they both said that while there is likely a causal relationship between these two variables, I cannot determine that from this data. There are also confounding variables, like how popular a candidate is, or whether they have been in office before, for example. The problem is, these are not variables that can be easily quantified, so I cannot just go ahead and run a multiple regression model to control for these variables.\n",
    "\n",
    "\n"
   ]
  }
 ],
 "metadata": {
  "kernelspec": {
   "display_name": "Python 3",
   "language": "python",
   "name": "python3"
  },
  "language_info": {
   "codemirror_mode": {
    "name": "ipython",
    "version": 3
   },
   "file_extension": ".py",
   "mimetype": "text/x-python",
   "name": "python",
   "nbconvert_exporter": "python",
   "pygments_lexer": "ipython3",
   "version": "3.11.0rc2"
  }
 },
 "nbformat": 4,
 "nbformat_minor": 2
}
