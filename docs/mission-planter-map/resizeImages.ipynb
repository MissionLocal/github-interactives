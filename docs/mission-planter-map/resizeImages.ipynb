{
 "cells": [
  {
   "cell_type": "code",
   "execution_count": 1,
   "metadata": {},
   "outputs": [],
   "source": [
    "from PIL import Image\n",
    "import os"
   ]
  },
  {
   "cell_type": "code",
   "execution_count": 2,
   "metadata": {},
   "outputs": [],
   "source": [
    "def resize_images(input_folder, output_folder, target_size_kb):\n",
    "    os.makedirs(output_folder, exist_ok=True)\n",
    "\n",
    "    for filename in os.listdir(input_folder):\n",
    "        if filename.endswith(\".jpg\"):\n",
    "            input_path = os.path.join(input_folder, filename)\n",
    "            output_path = os.path.join(output_folder, filename)\n",
    "\n",
    "            img = Image.open(input_path)\n",
    "\n",
    "            # Convert image to RGB mode\n",
    "            img = img.convert(\"RGB\")\n",
    "\n",
    "            # Calculate new dimensions to maintain the aspect ratio\n",
    "            base_width = 1000  # You can adjust this value based on your preferences\n",
    "            w_percent = base_width / float(img.size[0])\n",
    "            h_size = int(float(img.size[1]) * float(w_percent))\n",
    "            img = img.resize((base_width, h_size), Image.ANTIALIAS)\n",
    "\n",
    "            # Save the image with the target file size\n",
    "            quality = 150  # Initial quality value\n",
    "            while True:\n",
    "                temp_output_path = output_path.replace(\".jpg\", f\"_temp_q{quality}.jpg\")\n",
    "                img.save(temp_output_path, \"JPEG\", quality=quality)\n",
    "                \n",
    "                # Check the file size\n",
    "                temp_size_kb = os.path.getsize(temp_output_path) / 1024\n",
    "                if temp_size_kb <= target_size_kb:\n",
    "                    os.rename(temp_output_path, output_path)\n",
    "                    break\n",
    "                else:\n",
    "                    # Adjust the quality for the next iteration\n",
    "                    quality -= 5\n",
    "                    if quality < 5:\n",
    "                        break\n",
    "\n",
    "                # Delete the temporary file\n",
    "                os.remove(temp_output_path)\n"
   ]
  },
  {
   "cell_type": "code",
   "execution_count": 3,
   "metadata": {},
   "outputs": [
    {
     "name": "stderr",
     "output_type": "stream",
     "text": [
      "/var/folders/bw/7j1wslbj7374yk87kkx7qf5r0000gn/T/ipykernel_55568/3702486905.py:18: DeprecationWarning: ANTIALIAS is deprecated and will be removed in Pillow 10 (2023-07-01). Use Resampling.LANCZOS instead.\n",
      "  img = img.resize((base_width, h_size), Image.ANTIALIAS)\n"
     ]
    }
   ],
   "source": [
    "if __name__ == \"__main__\":\n",
    "    input_folder = \"imagesRaw\"\n",
    "    output_folder = \"images\"\n",
    "    target_size_kb = 600  # Adjust the target file size as needed\n",
    "\n",
    "    resize_images(input_folder, output_folder, target_size_kb)"
   ]
  }
 ],
 "metadata": {
  "kernelspec": {
   "display_name": "mloco",
   "language": "python",
   "name": "python3"
  },
  "language_info": {
   "codemirror_mode": {
    "name": "ipython",
    "version": 3
   },
   "file_extension": ".py",
   "mimetype": "text/x-python",
   "name": "python",
   "nbconvert_exporter": "python",
   "pygments_lexer": "ipython3",
   "version": "3.9.18"
  }
 },
 "nbformat": 4,
 "nbformat_minor": 2
}
