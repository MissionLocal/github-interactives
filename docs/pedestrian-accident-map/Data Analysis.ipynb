{
 "cells": [
  {
   "cell_type": "code",
   "execution_count": 41,
   "id": "cce9cf1b",
   "metadata": {},
   "outputs": [],
   "source": [
    "import pandas as pd\n",
    "import geopandas as gpd\n",
    "import matplotlib.pyplot as plt\n",
    "import numpy as np"
   ]
  },
  {
   "cell_type": "code",
   "execution_count": 57,
   "id": "b68ded19",
   "metadata": {},
   "outputs": [],
   "source": [
    "df = gpd.read_file(\"transbase_victims_01112023.json\")"
   ]
  },
  {
   "cell_type": "code",
   "execution_count": 43,
   "id": "56db24ee",
   "metadata": {},
   "outputs": [
    {
     "data": {
      "text/html": [
       "<div>\n",
       "<style scoped>\n",
       "    .dataframe tbody tr th:only-of-type {\n",
       "        vertical-align: middle;\n",
       "    }\n",
       "\n",
       "    .dataframe tbody tr th {\n",
       "        vertical-align: top;\n",
       "    }\n",
       "\n",
       "    .dataframe thead th {\n",
       "        text-align: right;\n",
       "    }\n",
       "</style>\n",
       "<table border=\"1\" class=\"dataframe\">\n",
       "  <thead>\n",
       "    <tr style=\"text-align: right;\">\n",
       "      <th></th>\n",
       "      <th>case_id_pkey</th>\n",
       "      <th>collision_severity</th>\n",
       "      <th>accident_year</th>\n",
       "      <th>collision_date</th>\n",
       "      <th>collision_time</th>\n",
       "      <th>distance</th>\n",
       "      <th>direction</th>\n",
       "      <th>vz_pcf_description</th>\n",
       "      <th>pcf_violation</th>\n",
       "      <th>pcf_viol_subsection</th>\n",
       "      <th>...</th>\n",
       "      <th>street_of_travel</th>\n",
       "      <th>victim_role</th>\n",
       "      <th>victim_sex</th>\n",
       "      <th>victim_age</th>\n",
       "      <th>victim_degree_of_injury</th>\n",
       "      <th>victim_seating_position</th>\n",
       "      <th>victim_safety_equip_1</th>\n",
       "      <th>victim_safety_equip_2</th>\n",
       "      <th>victim_ejected</th>\n",
       "      <th>geometry</th>\n",
       "    </tr>\n",
       "  </thead>\n",
       "  <tbody>\n",
       "    <tr>\n",
       "      <th>0</th>\n",
       "      <td>200489216</td>\n",
       "      <td>Injury (Severe)</td>\n",
       "      <td>2020</td>\n",
       "      <td>2020-08-14</td>\n",
       "      <td>20:53:00</td>\n",
       "      <td>29</td>\n",
       "      <td>East</td>\n",
       "      <td>Unsafe speed for prevailing conditions</td>\n",
       "      <td>22350.0</td>\n",
       "      <td>None</td>\n",
       "      <td>...</td>\n",
       "      <td>PALOU AVENUE</td>\n",
       "      <td>Pedestrian</td>\n",
       "      <td>Female</td>\n",
       "      <td>55.0</td>\n",
       "      <td>Severe Injury</td>\n",
       "      <td>Not Stated</td>\n",
       "      <td>Not Stated</td>\n",
       "      <td>Not Stated</td>\n",
       "      <td>Not Stated</td>\n",
       "      <td>POINT (-122.37991 37.72774)</td>\n",
       "    </tr>\n",
       "    <tr>\n",
       "      <th>1</th>\n",
       "      <td>220025107</td>\n",
       "      <td>Injury (Severe)</td>\n",
       "      <td>2022</td>\n",
       "      <td>2022-01-12</td>\n",
       "      <td>12:00:00</td>\n",
       "      <td>0</td>\n",
       "      <td>Not Stated</td>\n",
       "      <td>Driver or bicyclist to yield right-of-way at c...</td>\n",
       "      <td>21950.0</td>\n",
       "      <td>None</td>\n",
       "      <td>...</td>\n",
       "      <td>HAHN ST</td>\n",
       "      <td>Pedestrian</td>\n",
       "      <td>Male</td>\n",
       "      <td>85.0</td>\n",
       "      <td>Severe Injury</td>\n",
       "      <td>Not Stated</td>\n",
       "      <td>Not Stated</td>\n",
       "      <td>Not Stated</td>\n",
       "      <td>Not Stated</td>\n",
       "      <td>POINT (-122.41600 37.71191)</td>\n",
       "    </tr>\n",
       "    <tr>\n",
       "      <th>2</th>\n",
       "      <td>210092188</td>\n",
       "      <td>Fatal</td>\n",
       "      <td>2021</td>\n",
       "      <td>2021-02-10</td>\n",
       "      <td>10:11:00</td>\n",
       "      <td>0</td>\n",
       "      <td>Not Stated</td>\n",
       "      <td>Pedestrians must yield right-of-way outside of...</td>\n",
       "      <td>21954.0</td>\n",
       "      <td>None</td>\n",
       "      <td>...</td>\n",
       "      <td>REDONDO STREET</td>\n",
       "      <td>Pedestrian</td>\n",
       "      <td>Male</td>\n",
       "      <td>12.0</td>\n",
       "      <td>Fatal Injury</td>\n",
       "      <td>Not Stated</td>\n",
       "      <td>Not Stated</td>\n",
       "      <td>Not Stated</td>\n",
       "      <td>Not Stated</td>\n",
       "      <td>POINT (-122.39205 37.71858)</td>\n",
       "    </tr>\n",
       "    <tr>\n",
       "      <th>3</th>\n",
       "      <td>200298976</td>\n",
       "      <td>Injury (Severe)</td>\n",
       "      <td>2020</td>\n",
       "      <td>2020-05-16</td>\n",
       "      <td>17:46:00</td>\n",
       "      <td>22</td>\n",
       "      <td>East</td>\n",
       "      <td>Failure of driver or bicyclist to exercise due...</td>\n",
       "      <td>21954.0</td>\n",
       "      <td>None</td>\n",
       "      <td>...</td>\n",
       "      <td>FITZGERALD AVE</td>\n",
       "      <td>Pedestrian</td>\n",
       "      <td>Male</td>\n",
       "      <td>37.0</td>\n",
       "      <td>Severe Injury</td>\n",
       "      <td>Not Stated</td>\n",
       "      <td>Not Stated</td>\n",
       "      <td>Not Stated</td>\n",
       "      <td>Not Stated</td>\n",
       "      <td>POINT (-122.39497 37.72306)</td>\n",
       "    </tr>\n",
       "    <tr>\n",
       "      <th>4</th>\n",
       "      <td>220601020</td>\n",
       "      <td>Injury (Severe)</td>\n",
       "      <td>2022</td>\n",
       "      <td>2022-09-04</td>\n",
       "      <td>18:33:00</td>\n",
       "      <td>65</td>\n",
       "      <td>West</td>\n",
       "      <td>Unknown</td>\n",
       "      <td>NaN</td>\n",
       "      <td>None</td>\n",
       "      <td>...</td>\n",
       "      <td>OLMSTEAD STREET</td>\n",
       "      <td>Pedestrian</td>\n",
       "      <td>Male</td>\n",
       "      <td>NaN</td>\n",
       "      <td>Severe Injury</td>\n",
       "      <td>Not Stated</td>\n",
       "      <td>Not Stated</td>\n",
       "      <td>Not Stated</td>\n",
       "      <td>Not Stated</td>\n",
       "      <td>POINT (-122.40282 37.72252)</td>\n",
       "    </tr>\n",
       "  </tbody>\n",
       "</table>\n",
       "<p>5 rows × 78 columns</p>\n",
       "</div>"
      ],
      "text/plain": [
       "   case_id_pkey collision_severity  accident_year collision_date  \\\n",
       "0     200489216    Injury (Severe)           2020     2020-08-14   \n",
       "1     220025107    Injury (Severe)           2022     2022-01-12   \n",
       "2     210092188              Fatal           2021     2021-02-10   \n",
       "3     200298976    Injury (Severe)           2020     2020-05-16   \n",
       "4     220601020    Injury (Severe)           2022     2022-09-04   \n",
       "\n",
       "  collision_time  distance   direction  \\\n",
       "0       20:53:00        29        East   \n",
       "1       12:00:00         0  Not Stated   \n",
       "2       10:11:00         0  Not Stated   \n",
       "3       17:46:00        22        East   \n",
       "4       18:33:00        65        West   \n",
       "\n",
       "                                  vz_pcf_description  pcf_violation  \\\n",
       "0             Unsafe speed for prevailing conditions        22350.0   \n",
       "1  Driver or bicyclist to yield right-of-way at c...        21950.0   \n",
       "2  Pedestrians must yield right-of-way outside of...        21954.0   \n",
       "3  Failure of driver or bicyclist to exercise due...        21954.0   \n",
       "4                                            Unknown            NaN   \n",
       "\n",
       "  pcf_viol_subsection  ...  street_of_travel victim_role victim_sex  \\\n",
       "0                None  ...      PALOU AVENUE  Pedestrian     Female   \n",
       "1                None  ...           HAHN ST  Pedestrian       Male   \n",
       "2                None  ...    REDONDO STREET  Pedestrian       Male   \n",
       "3                None  ...    FITZGERALD AVE  Pedestrian       Male   \n",
       "4                None  ...  OLMSTEAD STREET   Pedestrian       Male   \n",
       "\n",
       "  victim_age victim_degree_of_injury victim_seating_position  \\\n",
       "0       55.0           Severe Injury              Not Stated   \n",
       "1       85.0           Severe Injury              Not Stated   \n",
       "2       12.0            Fatal Injury              Not Stated   \n",
       "3       37.0           Severe Injury              Not Stated   \n",
       "4        NaN           Severe Injury              Not Stated   \n",
       "\n",
       "  victim_safety_equip_1 victim_safety_equip_2 victim_ejected  \\\n",
       "0            Not Stated            Not Stated     Not Stated   \n",
       "1            Not Stated            Not Stated     Not Stated   \n",
       "2            Not Stated            Not Stated     Not Stated   \n",
       "3            Not Stated            Not Stated     Not Stated   \n",
       "4            Not Stated            Not Stated     Not Stated   \n",
       "\n",
       "                      geometry  \n",
       "0  POINT (-122.37991 37.72774)  \n",
       "1  POINT (-122.41600 37.71191)  \n",
       "2  POINT (-122.39205 37.71858)  \n",
       "3  POINT (-122.39497 37.72306)  \n",
       "4  POINT (-122.40282 37.72252)  \n",
       "\n",
       "[5 rows x 78 columns]"
      ]
     },
     "execution_count": 43,
     "metadata": {},
     "output_type": "execute_result"
    }
   ],
   "source": [
    "df.head()"
   ]
  },
  {
   "cell_type": "code",
   "execution_count": 58,
   "id": "37a71ded",
   "metadata": {},
   "outputs": [],
   "source": [
    "df.victim_sex = df.victim_sex.replace(np.nan,\"person\")\n",
    "df.victim_age = df.victim_age.replace(np.nan,\"unknown\")"
   ]
  },
  {
   "cell_type": "code",
   "execution_count": 39,
   "id": "234ea2d1",
   "metadata": {},
   "outputs": [
    {
     "data": {
      "text/plain": [
       "Index(['case_id_pkey', 'collision_severity', 'accident_year', 'collision_date',\n",
       "       'collision_time', 'distance', 'direction', 'vz_pcf_description',\n",
       "       'pcf_violation', 'pcf_viol_subsection', 'type_of_collision', 'mviw',\n",
       "       'street_view', 'primary_rd', 'secondary_rd', 'dph_col_grp',\n",
       "       'day_of_week', 'time_cat', 'weather_1', 'vz_pcf_code', 'intersection',\n",
       "       'month', 'vz_pcf_link', 'x_street_comb', 'lighting', 'number_killed',\n",
       "       'number_injured', 'latitude', 'longitude', 'cnn_sgmt_fkey',\n",
       "       'full_street_name', 'from_intrsctn', 'to_intrsctn', 'st_lat', 'st_long',\n",
       "       'dph_col_grp_description', 'road_surface', 'ped_action',\n",
       "       'control_device', 'pst_pull_date_time', 'bndy_type', 'party_at_fault',\n",
       "       'party1_type', 'party1_dir_of_travel', 'party1_move_pre_acc',\n",
       "       'party2_type', 'party2_dir_of_travel', 'party2_move_pre_acc',\n",
       "       'party_number_ckey', 'party_type', 'at_fault', 'party_sex', 'party_age',\n",
       "       'party_sobriety', 'party_drug_physical', 'dir_of_travel',\n",
       "       'party_safety_equip_1', 'party_safety_equip_2', 'finan_respons',\n",
       "       'cellphone', 'oaf_1', 'party_number_killed', 'party_number_injured',\n",
       "       'move_pre_acc', 'vehicle_year', 'vehicle_make', 'stwd_vehicle_type',\n",
       "       'race', 'street_of_travel', 'victim_role', 'victim_sex', 'victim_age',\n",
       "       'victim_degree_of_injury', 'victim_seating_position',\n",
       "       'victim_safety_equip_1', 'victim_safety_equip_2', 'victim_ejected',\n",
       "       'geometry'],\n",
       "      dtype='object')"
      ]
     },
     "execution_count": 39,
     "metadata": {},
     "output_type": "execute_result"
    }
   ],
   "source": [
    "df.columns"
   ]
  },
  {
   "cell_type": "code",
   "execution_count": null,
   "id": "142fa73b",
   "metadata": {},
   "outputs": [],
   "source": []
  },
  {
   "cell_type": "code",
   "execution_count": 4,
   "id": "0ba31634",
   "metadata": {},
   "outputs": [
    {
     "data": {
      "text/plain": [
       "(325, 78)"
      ]
     },
     "execution_count": 4,
     "metadata": {},
     "output_type": "execute_result"
    }
   ],
   "source": [
    "df.shape"
   ]
  },
  {
   "cell_type": "code",
   "execution_count": 59,
   "id": "85b101f2",
   "metadata": {},
   "outputs": [],
   "source": [
    "df['collision_date']= pd.to_datetime(df['collision_date'],format='%Y%m%d').dt.date.astype(str)\n",
    "df['collision_time']= pd.to_datetime(df['collision_time'],format='%H%M').dt.time.astype(str)"
   ]
  },
  {
   "cell_type": "code",
   "execution_count": 5,
   "id": "3bcf32a8",
   "metadata": {},
   "outputs": [
    {
     "data": {
      "text/plain": [
       "47.06410256410256"
      ]
     },
     "execution_count": 5,
     "metadata": {},
     "output_type": "execute_result"
    }
   ],
   "source": [
    "df.victim_age.mean()"
   ]
  },
  {
   "cell_type": "code",
   "execution_count": 11,
   "id": "770fca16",
   "metadata": {},
   "outputs": [
    {
     "data": {
      "text/plain": [
       "(array([ 1.,  0.,  0.,  0.,  2.,  2.,  1.,  3.,  8., 15., 18., 23., 23.,\n",
       "        22.,  9., 17., 14., 20., 11., 20., 22., 17., 14., 12.,  8., 15.,\n",
       "         3.,  6.,  5.,  1.]),\n",
       " array([-16.        , -12.26666667,  -8.53333333,  -4.8       ,\n",
       "         -1.06666667,   2.66666667,   6.4       ,  10.13333333,\n",
       "         13.86666667,  17.6       ,  21.33333333,  25.06666667,\n",
       "         28.8       ,  32.53333333,  36.26666667,  40.        ,\n",
       "         43.73333333,  47.46666667,  51.2       ,  54.93333333,\n",
       "         58.66666667,  62.4       ,  66.13333333,  69.86666667,\n",
       "         73.6       ,  77.33333333,  81.06666667,  84.8       ,\n",
       "         88.53333333,  92.26666667,  96.        ]),\n",
       " <BarContainer object of 30 artists>)"
      ]
     },
     "execution_count": 11,
     "metadata": {},
     "output_type": "execute_result"
    },
    {
     "data": {
      "image/png": "[encoded data removed]",
      "text/plain": [
       "<Figure size 432x288 with 1 Axes>"
      ]
     },
     "metadata": {
      "needs_background": "light"
     },
     "output_type": "display_data"
    }
   ],
   "source": [
    "plt.hist(df['victim_age'], color = 'blue', edgecolor = 'black', bins = 30)"
   ]
  },
  {
   "cell_type": "code",
   "execution_count": 29,
   "id": "944ab787",
   "metadata": {},
   "outputs": [
    {
     "data": {
      "text/plain": [
       "case_id_pkey                        int64\n",
       "collision_severity                 object\n",
       "accident_year                       int64\n",
       "collision_date             datetime64[ns]\n",
       "collision_time                     object\n",
       "                                ...      \n",
       "victim_seating_position            object\n",
       "victim_safety_equip_1              object\n",
       "victim_safety_equip_2              object\n",
       "victim_ejected                     object\n",
       "geometry                         geometry\n",
       "Length: 78, dtype: object"
      ]
     },
     "execution_count": 29,
     "metadata": {},
     "output_type": "execute_result"
    }
   ],
   "source": [
    "df.dtypes"
   ]
  },
  {
   "cell_type": "code",
   "execution_count": 60,
   "id": "ab16fb64",
   "metadata": {},
   "outputs": [],
   "source": [
    "df.to_file('pedestrian2020-2022.geojson', driver='GeoJSON')"
   ]
  }
 ],
 "metadata": {
  "kernelspec": {
   "display_name": "Python 3 (ipykernel)",
   "language": "python",
   "name": "python3"
  },
  "language_info": {
   "codemirror_mode": {
    "name": "ipython",
    "version": 3
   },
   "file_extension": ".py",
   "mimetype": "text/x-python",
   "name": "python",
   "nbconvert_exporter": "python",
   "pygments_lexer": "ipython3",
   "version": "3.9.7"
  }
 },
 "nbformat": 4,
 "nbformat_minor": 5
}
